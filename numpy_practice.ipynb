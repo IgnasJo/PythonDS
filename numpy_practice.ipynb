{
 "cells": [
  {
   "cell_type": "code",
   "execution_count": 6,
   "metadata": {},
   "outputs": [
    {
     "data": {
      "text/plain": [
       "array([[1, 2, 0, 0, 0],\n",
       "       [1, 2, 2, 0, 0],\n",
       "       [0, 1, 1, 1, 0],\n",
       "       [0, 0, 0, 1, 0],\n",
       "       [0, 0, 0, 1, 1]])"
      ]
     },
     "execution_count": 6,
     "metadata": {},
     "output_type": "execute_result"
    }
   ],
   "source": [
    "import numpy as np\n",
    "\n",
    "def tridiagonal_matrix(n, possible_vals):\n",
    "  gen_vals = lambda n: np.random.choice(possible_vals, n)\n",
    "  main_diag = gen_vals(n)\n",
    "  lower_diag = gen_vals(n-1)\n",
    "  upper_diag = gen_vals(n-1)\n",
    "  matrix = np.diag(main_diag) + np.diag(lower_diag, k=-1) + np.diag(upper_diag, k=1)\n",
    "  return matrix\n",
    "\n",
    "tridiagonal_matrix(n=5, possible_vals=(0,1,2))"
   ]
  },
  {
   "cell_type": "code",
   "execution_count": 169,
   "metadata": {},
   "outputs": [
    {
     "data": {
      "text/plain": [
       "array([[3., 3., 3., 3., 3., 0., 1., 2., 3., 4., 5.],\n",
       "       [3., 3., 3., 3., 3., 0., 1., 2., 3., 4., 5.],\n",
       "       [3., 3., 3., 3., 3., 0., 1., 2., 3., 4., 5.],\n",
       "       [3., 3., 3., 3., 3., 0., 1., 2., 3., 4., 5.],\n",
       "       [3., 3., 3., 3., 3., 0., 1., 2., 3., 4., 5.],\n",
       "       [0., 0., 0., 0., 0., 0., 0., 0., 0., 0., 0.],\n",
       "       [1., 0., 1., 0., 1., 0., 0., 0., 2., 0., 2.],\n",
       "       [0., 1., 0., 1., 0., 0., 0., 0., 0., 2., 0.],\n",
       "       [1., 0., 1., 0., 1., 0., 2., 0., 0., 0., 2.],\n",
       "       [0., 1., 0., 1., 0., 0., 0., 2., 0., 0., 0.],\n",
       "       [1., 0., 1., 0., 1., 0., 2., 0., 2., 0., 0.]])"
      ]
     },
     "execution_count": 169,
     "metadata": {},
     "output_type": "execute_result"
    }
   ],
   "source": [
    "def stacked_matrix(n):\n",
    "  top_left = 3 * np.ones((n,n))\n",
    "  top_right = np.fromfunction(lambda _,j: j+1, (n,n), dtype=int)\n",
    "  vertical_separator = np.zeros((n,1))\n",
    "  top = np.hstack((top_left, vertical_separator, top_right))\n",
    "  bottom_left = np.fromfunction(lambda i,j: (i+j)%2==0, (n,n), dtype=int)\n",
    "  bottom_right = 2 * np.fromfunction(lambda i,j: ((i+j)%2==0) & (i!=j), (n,n), dtype=int)\n",
    "  bottom = np.hstack((bottom_left, vertical_separator, bottom_right))\n",
    "  horizontal_separator = np.zeros((1,2*n+1))\n",
    "  matrix = np.vstack((top, horizontal_separator, bottom))\n",
    "  return matrix\n",
    "\n",
    "stacked_matrix(n=5)"
   ]
  },
  {
   "cell_type": "code",
   "execution_count": 10,
   "metadata": {},
   "outputs": [
    {
     "name": "stdout",
     "output_type": "stream",
     "text": [
      "A = \n",
      "[[2 0 0 0 0]\n",
      " [0 0 0 0 0]\n",
      " [0 0 1 0 0]\n",
      " [0 0 1 2 0]\n",
      " [0 0 0 0 2]]\n",
      "B = \n",
      "[[3 5 0 8]\n",
      " [4 1 8 0]\n",
      " [4 8 8 9]\n",
      " [9 7 2 2]\n",
      " [6 0 3 4]]\n",
      "manually_multiply (array_mult) time taken: 0.0\n",
      "AB = \n",
      "[[ 6. 10.  0. 16.]\n",
      " [ 0.  0.  0.  0.]\n",
      " [ 4.  8.  8.  9.]\n",
      " [22. 22. 12. 13.]\n",
      " [12.  0.  6.  8.]]\n",
      "manually_multiply (optimized_array_mult) time taken: 0.0008192062377929688\n",
      "np_matrix_mult (void) time taken: 0.0\n",
      "All AB operations are equal: True\n"
     ]
    }
   ],
   "source": [
    "import time\n",
    "\n",
    "get_current_time_seconds = lambda: time.time()\n",
    "\n",
    "def time_it(func):\n",
    "  def inner_func(*args, **kwargs):\n",
    "    start_seconds = get_current_time_seconds()\n",
    "    result = func(*args, **kwargs)\n",
    "    end_seconds = get_current_time_seconds()\n",
    "    time_taken_seconds = end_seconds - start_seconds\n",
    "    last_arg_index = len(args) - 1\n",
    "    if last_arg_index >= 0 and hasattr(args[last_arg_index], \"__name__\"):\n",
    "      last_arg = args[last_arg_index].__name__\n",
    "    else:\n",
    "      last_arg = \"void\"\n",
    "    print(f\"{func.__name__} ({last_arg}) time taken: {time_taken_seconds}\")\n",
    "    return result\n",
    "  return inner_func\n",
    "\n",
    "@time_it\n",
    "def manually_multiply(A, B, array_mult_func):\n",
    "  n = A.shape[0]\n",
    "  m = B.shape[1]\n",
    "  C = np.empty((n,m))\n",
    "  for i in range(n):\n",
    "    for j in range(m):\n",
    "      C[i,j] = array_mult_func(A[i], B[:,j])\n",
    "  return C\n",
    "\n",
    "def array_mult(a, b):\n",
    "  sum = 0\n",
    "  for i in range(a.shape[0]):\n",
    "      sum += a[i] * b[i]\n",
    "  return sum\n",
    "\n",
    "def optimized_array_mult(a, b):\n",
    "  return np.dot(a, b)\n",
    "\n",
    "@time_it\n",
    "def np_matrix_mult(A, B):\n",
    "  return np.matmul(A, B)\n",
    "\n",
    "def random_matrix(n, m , zero_to=10):\n",
    "  return np.random.randint(0, zero_to, (n, m))\n",
    "\n",
    "A = tridiagonal_matrix(n=5, possible_vals=(0,1,2))\n",
    "B = random_matrix(n=5, m=4, zero_to=10)\n",
    "\n",
    "print(f\"A = \\n{A}\")\n",
    "print(f\"B = \\n{B}\")\n",
    "C = manually_multiply(A, B, array_mult)\n",
    "print(f\"AB = \\n{C}\")\n",
    "D = manually_multiply(A, B, optimized_array_mult)\n",
    "arrays_are_equal = ((C == D) & (D == np_matrix_mult(A, B))).all()\n",
    "print(f\"All AB operations are equal: {arrays_are_equal}\")"
   ]
  },
  {
   "cell_type": "code",
   "execution_count": 9,
   "metadata": {},
   "outputs": [
    {
     "data": {
      "image/png": "[encoded data removed]",
      "text/plain": [
       "<Figure size 640x480 with 1 Axes>"
      ]
     },
     "metadata": {},
     "output_type": "display_data"
    }
   ],
   "source": [
    "import matplotlib.pyplot as plt\n",
    "import numpy as np\n",
    "\n",
    "A = len(\"Ignas\")\n",
    "B = len(\"Jogminas\")\n",
    "f = lambda x: np.sin(A*np.pi*x) + B*x \n",
    "f_ = lambda x: A*np.pi*np.cos(A*np.pi*x) + B\n",
    "\n",
    "def plot_with_tangent(f, a, b, c):\n",
    "  x = np.linspace(a, b, 100)\n",
    "  y = f(x)\n",
    "  plt.plot(x, y, c=\"blue\")\n",
    "  y = f_(c)*(x-c) + f(c)\n",
    "  plt.plot(x, y, c=\"red\")\n",
    "  plt.legend([\"f(x)\", \"f'(c)*(x-c) + f(c)\"])\n",
    "  plt.grid()\n",
    "  plt.title(f\"f and tangent of f at x={c}\")\n",
    "  plt.show()\n",
    "\n",
    "plot_with_tangent(f, a=10, b=12, c=11.1)\n",
    "\n"
   ]
  },
  {
   "cell_type": "code",
   "execution_count": 8,
   "metadata": {},
   "outputs": [
    {
     "name": "stdout",
     "output_type": "stream",
     "text": [
      "arr = \n",
      "[-2  5 -8  7  6 -4  4  7 -2  5]\n",
      "A = \n",
      "[[5 9 2 3 1 8 0 2 0 3]\n",
      " [1 8 4 9 7 6 7 1 6 8]\n",
      " [6 6 8 8 7 5 0 3 4 3]]\n",
      "B = \n",
      "[[1 8 2 9 5 6 3 6 7 5]\n",
      " [6 0 1 5 7 6 0 6 4 4]\n",
      " [5 7 6 4 5 5 7 6 1 6]]\n",
      "Uneven elements of arr =\n",
      "[5 7 7 5]\n",
      "Zerofied negatives of arr = \n",
      "[0 5 0 7 6 0 4 7 0 5]\n",
      "Distances between A and B = \n",
      "[ 6.48  8.12  3.61  8.25  4.47  2.   10.34  7.07  7.87  5.39]\n",
      "Bigger than left of arr = \n",
      "5\n",
      "Sign changes of arr = \n",
      "4\n"
     ]
    }
   ],
   "source": [
    "def get_unevens(arr):\n",
    "  return arr[arr % 2 != 0]\n",
    "\n",
    "def zerofy_negatives(arr):\n",
    "  return np.where(arr < 0, 0, arr)\n",
    "\n",
    "def get_distances(A, B):\n",
    "  return ((A - B)**2).sum(axis=0)**0.5\n",
    "\n",
    "def get_bigger_than_left_count(arr):\n",
    "  return (arr[1:] > arr[:-1]).sum()\n",
    "\n",
    "def get_sign_change_count(arr):\n",
    "  return (arr < 0).sum()\n",
    "\n",
    "np.set_printoptions(precision=2, suppress=True)\n",
    "\n",
    "n = 10\n",
    "arr = np.random.randint(-10, 10, n)\n",
    "A = np.random.randint(0, 10, (3, n))\n",
    "B = np.random.randint(0, 10, (3, n))\n",
    "print(f\"arr = \\n{arr}\")\n",
    "print(f\"A = \\n{A}\")\n",
    "print(f\"B = \\n{B}\")\n",
    "print(f\"Uneven elements of arr =\\n{get_unevens(arr)}\")\n",
    "print(f\"Zerofied negatives of arr = \\n{zerofy_negatives(arr)}\")\n",
    "print(f\"Distances between A and B = \\n{get_distances(A, B)}\")\n",
    "print(f\"Bigger than left of arr = \\n{get_bigger_than_left_count(arr)}\")\n",
    "print(f\"Sign changes of arr = \\n{get_sign_change_count(arr)}\")"
   ]
  }
 ],
 "metadata": {
  "kernelspec": {
   "display_name": "Python 3",
   "language": "python",
   "name": "python3"
  },
  "language_info": {
   "codemirror_mode": {
    "name": "ipython",
    "version": 3
   },
   "file_extension": ".py",
   "mimetype": "text/x-python",
   "name": "python",
   "nbconvert_exporter": "python",
   "pygments_lexer": "ipython3",
   "version": "3.11.9"
  }
 },
 "nbformat": 4,
 "nbformat_minor": 2
}
